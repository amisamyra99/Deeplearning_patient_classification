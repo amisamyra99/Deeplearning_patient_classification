{
 "cells": [
  {
   "cell_type": "code",
   "execution_count": 59,
   "id": "0c62d5f7",
   "metadata": {},
   "outputs": [],
   "source": [
    "import numpy as np\n",
    "import tensorflow as tf\n",
    "import matplotlib.pyplot as plt\n",
    "from tensorflow import keras\n",
    "import seaborn as sns\n",
    "from sklearn.metrics import plot_confusion_matrix"
   ]
  },
  {
   "cell_type": "code",
   "execution_count": 2,
   "id": "330f3f5c",
   "metadata": {},
   "outputs": [],
   "source": [
    "\n",
    "train = np.loadtxt('train.csv')\n",
    "trainLabel = np.loadtxt('trainLabel.csv').astype(int)\n",
    "test = np.loadtxt('test.csv')\n",
    "testLabel = np.loadtxt('testLabel.csv').astype(int)"
   ]
  },
  {
   "cell_type": "markdown",
   "id": "15f94adc",
   "metadata": {},
   "source": [
    "modelind"
   ]
  },
  {
   "cell_type": "code",
   "execution_count": 28,
   "id": "00b3b2a8",
   "metadata": {},
   "outputs": [
    {
     "name": "stdout",
     "output_type": "stream",
     "text": [
      "Epoch 1/80\n",
      "89/89 [==============================] - 0s 3ms/step - loss: 0.6735 - accuracy: 0.5799 - val_loss: 0.6669 - val_accuracy: 0.6020\n",
      "Epoch 2/80\n",
      "89/89 [==============================] - 0s 793us/step - loss: 0.6666 - accuracy: 0.5940 - val_loss: 0.6625 - val_accuracy: 0.6020\n",
      "Epoch 3/80\n",
      "89/89 [==============================] - 0s 893us/step - loss: 0.6623 - accuracy: 0.5940 - val_loss: 0.6585 - val_accuracy: 0.6048\n",
      "Epoch 4/80\n",
      "89/89 [==============================] - 0s 902us/step - loss: 0.6578 - accuracy: 0.6011 - val_loss: 0.6530 - val_accuracy: 0.6076\n",
      "Epoch 5/80\n",
      "89/89 [==============================] - 0s 766us/step - loss: 0.6519 - accuracy: 0.6139 - val_loss: 0.6436 - val_accuracy: 0.6374\n",
      "Epoch 6/80\n",
      "89/89 [==============================] - 0s 912us/step - loss: 0.6426 - accuracy: 0.6408 - val_loss: 0.6358 - val_accuracy: 0.6416\n",
      "Epoch 7/80\n",
      "89/89 [==============================] - 0s 847us/step - loss: 0.6352 - accuracy: 0.6507 - val_loss: 0.6286 - val_accuracy: 0.6516\n",
      "Epoch 8/80\n",
      "89/89 [==============================] - 0s 760us/step - loss: 0.6303 - accuracy: 0.6589 - val_loss: 0.6241 - val_accuracy: 0.6487\n",
      "Epoch 9/80\n",
      "89/89 [==============================] - 0s 755us/step - loss: 0.6257 - accuracy: 0.6624 - val_loss: 0.6191 - val_accuracy: 0.6572\n",
      "Epoch 10/80\n",
      "89/89 [==============================] - 0s 774us/step - loss: 0.6233 - accuracy: 0.6656 - val_loss: 0.6152 - val_accuracy: 0.6572\n",
      "Epoch 11/80\n",
      "89/89 [==============================] - 0s 825us/step - loss: 0.6178 - accuracy: 0.6674 - val_loss: 0.6104 - val_accuracy: 0.6700\n",
      "Epoch 12/80\n",
      "89/89 [==============================] - 0s 762us/step - loss: 0.6145 - accuracy: 0.6706 - val_loss: 0.6071 - val_accuracy: 0.6756\n",
      "Epoch 13/80\n",
      "89/89 [==============================] - 0s 833us/step - loss: 0.6119 - accuracy: 0.6720 - val_loss: 0.6034 - val_accuracy: 0.6771\n",
      "Epoch 14/80\n",
      "89/89 [==============================] - 0s 726us/step - loss: 0.6084 - accuracy: 0.6798 - val_loss: 0.6011 - val_accuracy: 0.6856\n",
      "Epoch 15/80\n",
      "89/89 [==============================] - 0s 902us/step - loss: 0.6063 - accuracy: 0.6908 - val_loss: 0.5974 - val_accuracy: 0.6856\n",
      "Epoch 16/80\n",
      "89/89 [==============================] - 0s 897us/step - loss: 0.6035 - accuracy: 0.6854 - val_loss: 0.5950 - val_accuracy: 0.6884\n",
      "Epoch 17/80\n",
      "89/89 [==============================] - 0s 849us/step - loss: 0.5995 - accuracy: 0.6847 - val_loss: 0.5926 - val_accuracy: 0.6997\n",
      "Epoch 18/80\n",
      "89/89 [==============================] - 0s 854us/step - loss: 0.5987 - accuracy: 0.6936 - val_loss: 0.5896 - val_accuracy: 0.7011\n",
      "Epoch 19/80\n",
      "89/89 [==============================] - 0s 794us/step - loss: 0.5952 - accuracy: 0.7028 - val_loss: 0.5915 - val_accuracy: 0.7025\n",
      "Epoch 20/80\n",
      "89/89 [==============================] - 0s 785us/step - loss: 0.5949 - accuracy: 0.6993 - val_loss: 0.5852 - val_accuracy: 0.7068\n",
      "Epoch 21/80\n",
      "89/89 [==============================] - 0s 952us/step - loss: 0.5919 - accuracy: 0.7007 - val_loss: 0.5840 - val_accuracy: 0.6969\n",
      "Epoch 22/80\n",
      "89/89 [==============================] - 0s 786us/step - loss: 0.5894 - accuracy: 0.7032 - val_loss: 0.5828 - val_accuracy: 0.7167\n",
      "Epoch 23/80\n",
      "89/89 [==============================] - 0s 870us/step - loss: 0.5874 - accuracy: 0.7074 - val_loss: 0.5798 - val_accuracy: 0.7068\n",
      "Epoch 24/80\n",
      "89/89 [==============================] - 0s 797us/step - loss: 0.5847 - accuracy: 0.7109 - val_loss: 0.5783 - val_accuracy: 0.7068\n",
      "Epoch 25/80\n",
      "89/89 [==============================] - 0s 786us/step - loss: 0.5854 - accuracy: 0.7088 - val_loss: 0.5765 - val_accuracy: 0.7252\n",
      "Epoch 26/80\n",
      "89/89 [==============================] - 0s 847us/step - loss: 0.5819 - accuracy: 0.7138 - val_loss: 0.5748 - val_accuracy: 0.7210\n",
      "Epoch 27/80\n",
      "89/89 [==============================] - 0s 849us/step - loss: 0.5799 - accuracy: 0.7138 - val_loss: 0.5740 - val_accuracy: 0.7153\n",
      "Epoch 28/80\n",
      "89/89 [==============================] - 0s 874us/step - loss: 0.5792 - accuracy: 0.7131 - val_loss: 0.5736 - val_accuracy: 0.7181\n",
      "Epoch 29/80\n",
      "89/89 [==============================] - 0s 898us/step - loss: 0.5772 - accuracy: 0.7184 - val_loss: 0.5702 - val_accuracy: 0.7210\n",
      "Epoch 30/80\n",
      "89/89 [==============================] - 0s 801us/step - loss: 0.5761 - accuracy: 0.7166 - val_loss: 0.5684 - val_accuracy: 0.7252\n",
      "Epoch 31/80\n",
      "89/89 [==============================] - 0s 793us/step - loss: 0.5743 - accuracy: 0.7216 - val_loss: 0.5677 - val_accuracy: 0.7181\n",
      "Epoch 32/80\n",
      "89/89 [==============================] - 0s 892us/step - loss: 0.5722 - accuracy: 0.7212 - val_loss: 0.5678 - val_accuracy: 0.7309\n",
      "Epoch 33/80\n",
      "89/89 [==============================] - 0s 989us/step - loss: 0.5715 - accuracy: 0.7255 - val_loss: 0.5653 - val_accuracy: 0.7195\n",
      "Epoch 34/80\n",
      "89/89 [==============================] - 0s 932us/step - loss: 0.5699 - accuracy: 0.7237 - val_loss: 0.5635 - val_accuracy: 0.7337\n",
      "Epoch 35/80\n",
      "89/89 [==============================] - 0s 1ms/step - loss: 0.5683 - accuracy: 0.7212 - val_loss: 0.5672 - val_accuracy: 0.7252\n",
      "Epoch 36/80\n",
      "89/89 [==============================] - 0s 826us/step - loss: 0.5686 - accuracy: 0.7241 - val_loss: 0.5637 - val_accuracy: 0.7295\n",
      "Epoch 37/80\n",
      "89/89 [==============================] - 0s 851us/step - loss: 0.5662 - accuracy: 0.7265 - val_loss: 0.5604 - val_accuracy: 0.7323\n",
      "Epoch 38/80\n",
      "89/89 [==============================] - 0s 796us/step - loss: 0.5649 - accuracy: 0.7297 - val_loss: 0.5641 - val_accuracy: 0.7210\n",
      "Epoch 39/80\n",
      "89/89 [==============================] - 0s 887us/step - loss: 0.5642 - accuracy: 0.7287 - val_loss: 0.5602 - val_accuracy: 0.7351\n",
      "Epoch 40/80\n",
      "89/89 [==============================] - 0s 976us/step - loss: 0.5639 - accuracy: 0.7283 - val_loss: 0.5588 - val_accuracy: 0.7380\n",
      "Epoch 41/80\n",
      "89/89 [==============================] - 0s 841us/step - loss: 0.5617 - accuracy: 0.7333 - val_loss: 0.5600 - val_accuracy: 0.7323\n",
      "Epoch 42/80\n",
      "89/89 [==============================] - 0s 834us/step - loss: 0.5613 - accuracy: 0.7272 - val_loss: 0.5572 - val_accuracy: 0.7380\n",
      "Epoch 43/80\n",
      "89/89 [==============================] - 0s 866us/step - loss: 0.5602 - accuracy: 0.7279 - val_loss: 0.5544 - val_accuracy: 0.7351\n",
      "Epoch 44/80\n",
      "89/89 [==============================] - 0s 965us/step - loss: 0.5600 - accuracy: 0.7311 - val_loss: 0.5535 - val_accuracy: 0.7295\n",
      "Epoch 45/80\n",
      "89/89 [==============================] - 0s 947us/step - loss: 0.5574 - accuracy: 0.7297 - val_loss: 0.5578 - val_accuracy: 0.7365\n",
      "Epoch 46/80\n",
      "89/89 [==============================] - 0s 928us/step - loss: 0.5576 - accuracy: 0.7272 - val_loss: 0.5524 - val_accuracy: 0.7295\n",
      "Epoch 47/80\n",
      "89/89 [==============================] - 0s 844us/step - loss: 0.5563 - accuracy: 0.7336 - val_loss: 0.5518 - val_accuracy: 0.7394\n",
      "Epoch 48/80\n",
      "89/89 [==============================] - 0s 755us/step - loss: 0.5558 - accuracy: 0.7308 - val_loss: 0.5524 - val_accuracy: 0.7309\n",
      "Epoch 49/80\n",
      "89/89 [==============================] - 0s 802us/step - loss: 0.5553 - accuracy: 0.7350 - val_loss: 0.5521 - val_accuracy: 0.7408\n",
      "Epoch 50/80\n",
      "89/89 [==============================] - 0s 785us/step - loss: 0.5542 - accuracy: 0.7333 - val_loss: 0.5493 - val_accuracy: 0.7351\n",
      "Epoch 51/80\n",
      "89/89 [==============================] - 0s 918us/step - loss: 0.5537 - accuracy: 0.7354 - val_loss: 0.5487 - val_accuracy: 0.7394\n",
      "Epoch 52/80\n",
      "89/89 [==============================] - 0s 853us/step - loss: 0.5533 - accuracy: 0.7347 - val_loss: 0.5482 - val_accuracy: 0.7436\n",
      "Epoch 53/80\n",
      "89/89 [==============================] - 0s 851us/step - loss: 0.5550 - accuracy: 0.7315 - val_loss: 0.5522 - val_accuracy: 0.7408\n",
      "Epoch 54/80\n",
      "89/89 [==============================] - 0s 860us/step - loss: 0.5531 - accuracy: 0.7361 - val_loss: 0.5474 - val_accuracy: 0.7422\n",
      "Epoch 55/80\n",
      "89/89 [==============================] - 0s 869us/step - loss: 0.5518 - accuracy: 0.7297 - val_loss: 0.5540 - val_accuracy: 0.7365\n",
      "Epoch 56/80\n",
      "89/89 [==============================] - 0s 874us/step - loss: 0.5509 - accuracy: 0.7368 - val_loss: 0.5456 - val_accuracy: 0.7365\n",
      "Epoch 57/80\n",
      "89/89 [==============================] - 0s 840us/step - loss: 0.5504 - accuracy: 0.7350 - val_loss: 0.5453 - val_accuracy: 0.7380\n",
      "Epoch 58/80\n"
     ]
    },
    {
     "name": "stdout",
     "output_type": "stream",
     "text": [
      "89/89 [==============================] - 0s 895us/step - loss: 0.5494 - accuracy: 0.7329 - val_loss: 0.5461 - val_accuracy: 0.7408\n",
      "Epoch 59/80\n",
      "89/89 [==============================] - 0s 799us/step - loss: 0.5482 - accuracy: 0.7389 - val_loss: 0.5494 - val_accuracy: 0.7365\n",
      "Epoch 60/80\n",
      "89/89 [==============================] - 0s 811us/step - loss: 0.5484 - accuracy: 0.7350 - val_loss: 0.5454 - val_accuracy: 0.7394\n",
      "Epoch 61/80\n",
      "89/89 [==============================] - 0s 808us/step - loss: 0.5481 - accuracy: 0.7411 - val_loss: 0.5446 - val_accuracy: 0.7365\n",
      "Epoch 62/80\n",
      "89/89 [==============================] - 0s 772us/step - loss: 0.5469 - accuracy: 0.7347 - val_loss: 0.5436 - val_accuracy: 0.7380\n",
      "Epoch 63/80\n",
      "89/89 [==============================] - 0s 788us/step - loss: 0.5469 - accuracy: 0.7379 - val_loss: 0.5434 - val_accuracy: 0.7380\n",
      "Epoch 64/80\n",
      "89/89 [==============================] - 0s 680us/step - loss: 0.5464 - accuracy: 0.7354 - val_loss: 0.5421 - val_accuracy: 0.7394\n",
      "Epoch 65/80\n",
      "89/89 [==============================] - 0s 756us/step - loss: 0.5465 - accuracy: 0.7357 - val_loss: 0.5426 - val_accuracy: 0.7337\n",
      "Epoch 66/80\n",
      "89/89 [==============================] - 0s 925us/step - loss: 0.5454 - accuracy: 0.7414 - val_loss: 0.5441 - val_accuracy: 0.7408\n",
      "Epoch 67/80\n",
      "89/89 [==============================] - 0s 896us/step - loss: 0.5445 - accuracy: 0.7389 - val_loss: 0.5425 - val_accuracy: 0.7365\n",
      "Epoch 68/80\n",
      "89/89 [==============================] - 0s 855us/step - loss: 0.5470 - accuracy: 0.7361 - val_loss: 0.5402 - val_accuracy: 0.7351\n",
      "Epoch 69/80\n",
      "89/89 [==============================] - 0s 850us/step - loss: 0.5443 - accuracy: 0.7379 - val_loss: 0.5427 - val_accuracy: 0.7422\n",
      "Epoch 70/80\n",
      "89/89 [==============================] - 0s 907us/step - loss: 0.5447 - accuracy: 0.7453 - val_loss: 0.5440 - val_accuracy: 0.7479\n",
      "Epoch 71/80\n",
      "89/89 [==============================] - 0s 982us/step - loss: 0.5443 - accuracy: 0.7365 - val_loss: 0.5404 - val_accuracy: 0.7380\n",
      "Epoch 72/80\n",
      "89/89 [==============================] - 0s 899us/step - loss: 0.5456 - accuracy: 0.7375 - val_loss: 0.5422 - val_accuracy: 0.7380\n",
      "Epoch 73/80\n",
      "89/89 [==============================] - 0s 786us/step - loss: 0.5435 - accuracy: 0.7354 - val_loss: 0.5429 - val_accuracy: 0.7479\n",
      "Epoch 74/80\n",
      "89/89 [==============================] - 0s 792us/step - loss: 0.5433 - accuracy: 0.7375 - val_loss: 0.5410 - val_accuracy: 0.7436\n",
      "Epoch 75/80\n",
      "89/89 [==============================] - 0s 898us/step - loss: 0.5439 - accuracy: 0.7379 - val_loss: 0.5398 - val_accuracy: 0.7351\n",
      "Epoch 76/80\n",
      "89/89 [==============================] - 0s 905us/step - loss: 0.5423 - accuracy: 0.7357 - val_loss: 0.5414 - val_accuracy: 0.7450\n",
      "Epoch 77/80\n",
      "89/89 [==============================] - 0s 897us/step - loss: 0.5436 - accuracy: 0.7411 - val_loss: 0.5386 - val_accuracy: 0.7365\n",
      "Epoch 78/80\n",
      "89/89 [==============================] - 0s 794us/step - loss: 0.5422 - accuracy: 0.7354 - val_loss: 0.5423 - val_accuracy: 0.7450\n",
      "Epoch 79/80\n",
      "89/89 [==============================] - 0s 875us/step - loss: 0.5439 - accuracy: 0.7386 - val_loss: 0.5452 - val_accuracy: 0.7479\n",
      "Epoch 80/80\n",
      "89/89 [==============================] - 0s 941us/step - loss: 0.5424 - accuracy: 0.7396 - val_loss: 0.5442 - val_accuracy: 0.7479\n"
     ]
    }
   ],
   "source": [
    "model=keras.Sequential()\n",
    "model.add(keras.Input(shape=(10,)))\n",
    "model.add(keras.layers.Dense(10,activation='relu'))\n",
    "model.add(keras.layers.Dense(5,activation='relu'))\n",
    "model.add(keras.layers.Dense(1,activation='sigmoid'))\n",
    "model.compile(optimizer='adam',loss='binary_crossentropy',metrics=['accuracy'])\n",
    "hist=model.fit(train,trainLabel,validation_split=0.2,epochs=80)"
   ]
  },
  {
   "cell_type": "code",
   "execution_count": 25,
   "id": "839b8e39",
   "metadata": {},
   "outputs": [
    {
     "name": "stdout",
     "output_type": "stream",
     "text": [
      "Model: \"sequential_5\"\n",
      "_________________________________________________________________\n",
      "Layer (type)                 Output Shape              Param #   \n",
      "=================================================================\n",
      "dense_5 (Dense)              (None, 10)                110       \n",
      "_________________________________________________________________\n",
      "dense_6 (Dense)              (None, 5)                 55        \n",
      "_________________________________________________________________\n",
      "dense_7 (Dense)              (None, 1)                 6         \n",
      "=================================================================\n",
      "Total params: 171\n",
      "Trainable params: 171\n",
      "Non-trainable params: 0\n",
      "_________________________________________________________________\n"
     ]
    }
   ],
   "source": [
    "model.summary()"
   ]
  },
  {
   "cell_type": "code",
   "execution_count": 16,
   "id": "e84b5d15",
   "metadata": {},
   "outputs": [
    {
     "name": "stdout",
     "output_type": "stream",
     "text": [
      "dict_keys(['loss', 'accuracy', 'val_loss', 'val_accuracy'])\n"
     ]
    }
   ],
   "source": [
    "print(hist.history.keys())"
   ]
  },
  {
   "cell_type": "code",
   "execution_count": 26,
   "id": "1375fe02",
   "metadata": {},
   "outputs": [
    {
     "data": {
      "text/plain": [
       "Text(0, 0.5, 'Training_Loss')"
      ]
     },
     "execution_count": 26,
     "metadata": {},
     "output_type": "execute_result"
    },
    {
     "data": {
      "image/png": "[encoded data removed]",
      "text/plain": [
       "<Figure size 432x288 with 1 Axes>"
      ]
     },
     "metadata": {
      "needs_background": "light"
     },
     "output_type": "display_data"
    }
   ],
   "source": [
    "plt.plot(hist.history['loss'])\n",
    "plt.plot(hist.history['val_loss'])\n",
    "plt.grid()\n",
    "plt.xlabel('Epochs')\n",
    "plt.ylabel('Training_Loss')"
   ]
  },
  {
   "cell_type": "code",
   "execution_count": 27,
   "id": "37f0d090",
   "metadata": {},
   "outputs": [
    {
     "data": {
      "text/plain": [
       "Text(0, 0.5, 'Training Accuracy')"
      ]
     },
     "execution_count": 27,
     "metadata": {},
     "output_type": "execute_result"
    },
    {
     "data": {
      "image/png": "[encoded data removed]",
      "text/plain": [
       "<Figure size 432x288 with 1 Axes>"
      ]
     },
     "metadata": {
      "needs_background": "light"
     },
     "output_type": "display_data"
    }
   ],
   "source": [
    "plt.plot(hist.history['accuracy'])\n",
    "plt.plot(hist.history['val_accuracy'])\n",
    "plt.grid()\n",
    "plt.xlabel('Epochs')\n",
    "plt.ylabel('Training Accuracy')"
   ]
  },
  {
   "cell_type": "code",
   "execution_count": 29,
   "id": "80cbd3eb",
   "metadata": {},
   "outputs": [
    {
     "name": "stdout",
     "output_type": "stream",
     "text": [
      "28/28 [==============================] - 0s 570us/step - loss: 0.5487 - accuracy: 0.7259\n",
      "test set accuracy 72.59343266487122\n"
     ]
    }
   ],
   "source": [
    "loss,accuracy=model.evaluate(test,testLabel)\n",
    "print('test set accuracy', accuracy * 100)"
   ]
  },
  {
   "cell_type": "code",
   "execution_count": 41,
   "id": "3f2980d2",
   "metadata": {},
   "outputs": [
    {
     "name": "stdout",
     "output_type": "stream",
     "text": [
      "shape of pred (883,)\n"
     ]
    },
    {
     "data": {
      "text/plain": [
       "array([0.6561464 , 0.73129916, 0.30581802, 0.8580393 ], dtype=float32)"
      ]
     },
     "execution_count": 41,
     "metadata": {},
     "output_type": "execute_result"
    }
   ],
   "source": [
    "preds=model.predict(test)\n",
    "preds=preds.flatten()\n",
    "print('shape of pred', preds.shape)\n",
    "preds[:4]"
   ]
  },
  {
   "cell_type": "code",
   "execution_count": 45,
   "id": "4d89be2e",
   "metadata": {},
   "outputs": [],
   "source": [
    "cpredslabels= []\n",
    "for element in preds:\n",
    "    cpredslabels.append(int(np.round(element)))\n",
    "cpredslabelsAr=np.array(cpredslabels)\n",
    "  "
   ]
  },
  {
   "cell_type": "code",
   "execution_count": 46,
   "id": "51f3edbb",
   "metadata": {},
   "outputs": [
    {
     "name": "stdout",
     "output_type": "stream",
     "text": [
      "[1 1 0 1 0 1 0 1 0 1]\n",
      "[1 1 1 1 1 1 1 1 0 1]\n"
     ]
    }
   ],
   "source": [
    "print(cpredslabelsAr[:10])\n",
    "print(testLabel[:10])"
   ]
  },
  {
   "cell_type": "code",
   "execution_count": 47,
   "id": "a2423f31",
   "metadata": {},
   "outputs": [],
   "source": [
    "from sklearn.metrics import (confusion_matrix, precision_recall_curve, auc, roc_curve, recall_score, \n",
    "                             classification_report, f1_score, accuracy_score, average_precision_score, precision_recall_fscore_support)"
   ]
  },
  {
   "cell_type": "code",
   "execution_count": 49,
   "id": "71ff3449",
   "metadata": {},
   "outputs": [
    {
     "name": "stdout",
     "output_type": "stream",
     "text": [
      "              precision    recall  f1-score   support\n",
      "\n",
      "           0       0.67      0.64      0.65       357\n",
      "           1       0.76      0.79      0.77       526\n",
      "\n",
      "    accuracy                           0.73       883\n",
      "   macro avg       0.72      0.71      0.71       883\n",
      "weighted avg       0.72      0.73      0.72       883\n",
      "\n"
     ]
    }
   ],
   "source": [
    "print(classification_report(testLabel, cpredslabelsAr))"
   ]
  },
  {
   "cell_type": "code",
   "execution_count": 61,
   "id": "5a262bc7",
   "metadata": {},
   "outputs": [
    {
     "data": {
      "text/plain": [
       "Text(33.0, 0.5, 'Truth')"
      ]
     },
     "execution_count": 61,
     "metadata": {},
     "output_type": "execute_result"
    },
    {
     "data": {
      "image/png": "[encoded data removed]",
      "text/plain": [
       "<Figure size 432x288 with 2 Axes>"
      ]
     },
     "metadata": {
      "needs_background": "light"
     },
     "output_type": "display_data"
    }
   ],
   "source": [
    "confusion_matrix=tf.math.confusion_matrix(labels=testLabel,predictions=cpredslabelsAr)\n",
    "sns.heatmap(confusion_matrix,annot=True,cmap=plt.cm.Blues,fmt='d')\n",
    "plt.xlabel('Predicted')\n",
    "plt.ylabel('Truth')"
   ]
  },
  {
   "cell_type": "code",
   "execution_count": null,
   "id": "b7821c23",
   "metadata": {},
   "outputs": [],
   "source": []
  }
 ],
 "metadata": {
  "kernelspec": {
   "display_name": "Python 3",
   "language": "python",
   "name": "python3"
  },
  "language_info": {
   "codemirror_mode": {
    "name": "ipython",
    "version": 3
   },
   "file_extension": ".py",
   "mimetype": "text/x-python",
   "name": "python",
   "nbconvert_exporter": "python",
   "pygments_lexer": "ipython3",
   "version": "3.8.8"
  }
 },
 "nbformat": 4,
 "nbformat_minor": 5
}
